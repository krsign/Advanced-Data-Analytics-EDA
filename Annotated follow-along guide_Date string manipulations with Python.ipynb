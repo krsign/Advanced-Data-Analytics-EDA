{
 "cells": [
  {
   "cell_type": "markdown",
   "metadata": {
    "id": "69783gzunQEp"
   },
   "source": [
    "# Annotated follow-along guide: Date string manipulations with Python"
   ]
  },
  {
   "cell_type": "markdown",
   "metadata": {},
   "source": [
    "This notebook contains the code used in the following instructional video: [Date string manipulations with Python](https://www.coursera.org/learn/go-beyond-the-numbers-translate-data-into-insight/lecture/0GjvK/date-string-manipulations-with-python)"
   ]
  },
  {
   "cell_type": "markdown",
   "metadata": {},
   "source": [
    "## Introduction"
   ]
  },
  {
   "cell_type": "markdown",
   "metadata": {
    "id": "PMRbG2k_FJFj"
   },
   "source": [
    "Throughout this notebook, we will practice manipulating date strings in Python. Before getting started, watch the associated instructional video and complete the in-video question. All of the code we will be implementing and related instructions are contained in this notebook."
   ]
  },
  {
   "cell_type": "markdown",
   "metadata": {},
   "source": [
    "## Overview\n",
    "\n",
    "In this notebook, we will work with 2016–2018 lightning strike data from the National Oceanic and Atmospheric Association (NOAA) to calculate weekly sums of lightning strikes and plot them on a bar graph. Then, we will calculate quarterly lightning strike totals and plot them on bar graphs."
   ]
  },
  {
   "cell_type": "markdown",
   "metadata": {},
   "source": [
    "## Import packages and libraries"
   ]
  },
  {
   "cell_type": "markdown",
   "metadata": {
    "id": "JAh01LamFJFt"
   },
   "source": [
    "Before getting started, we will need to import all the required libraries and extensions. Throughout the course, we will be using pandas for operations, and matplotlib and seaborn for plotting."
   ]
  },
  {
   "cell_type": "code",
   "execution_count": 1,
   "metadata": {
    "id": "TiZxf5dvGcXB"
   },
   "outputs": [],
   "source": [
    "# Import statements\n",
    "import matplotlib.pyplot as plt\n",
    "import pandas as pd\n",
    "import seaborn as sns"
   ]
  },
  {
   "cell_type": "code",
   "execution_count": 2,
   "metadata": {
    "id": "Bsgc4dX4BWOA"
   },
   "outputs": [
    {
     "data": {
      "text/html": [
       "<div>\n",
       "<style scoped>\n",
       "    .dataframe tbody tr th:only-of-type {\n",
       "        vertical-align: middle;\n",
       "    }\n",
       "\n",
       "    .dataframe tbody tr th {\n",
       "        vertical-align: top;\n",
       "    }\n",
       "\n",
       "    .dataframe thead th {\n",
       "        text-align: right;\n",
       "    }\n",
       "</style>\n",
       "<table border=\"1\" class=\"dataframe\">\n",
       "  <thead>\n",
       "    <tr style=\"text-align: right;\">\n",
       "      <th></th>\n",
       "      <th>date</th>\n",
       "      <th>number_of_strikes</th>\n",
       "      <th>center_point_geom</th>\n",
       "    </tr>\n",
       "  </thead>\n",
       "  <tbody>\n",
       "    <tr>\n",
       "      <th>0</th>\n",
       "      <td>2016-08-05</td>\n",
       "      <td>16</td>\n",
       "      <td>POINT(-101.5 24.7)</td>\n",
       "    </tr>\n",
       "    <tr>\n",
       "      <th>1</th>\n",
       "      <td>2016-08-05</td>\n",
       "      <td>16</td>\n",
       "      <td>POINT(-85 34.3)</td>\n",
       "    </tr>\n",
       "    <tr>\n",
       "      <th>2</th>\n",
       "      <td>2016-08-05</td>\n",
       "      <td>16</td>\n",
       "      <td>POINT(-89 41.4)</td>\n",
       "    </tr>\n",
       "    <tr>\n",
       "      <th>3</th>\n",
       "      <td>2016-08-05</td>\n",
       "      <td>16</td>\n",
       "      <td>POINT(-89.8 30.7)</td>\n",
       "    </tr>\n",
       "    <tr>\n",
       "      <th>4</th>\n",
       "      <td>2016-08-05</td>\n",
       "      <td>16</td>\n",
       "      <td>POINT(-86.2 37.9)</td>\n",
       "    </tr>\n",
       "  </tbody>\n",
       "</table>\n",
       "</div>"
      ],
      "text/plain": [
       "         date  number_of_strikes   center_point_geom\n",
       "0  2016-08-05                 16  POINT(-101.5 24.7)\n",
       "1  2016-08-05                 16     POINT(-85 34.3)\n",
       "2  2016-08-05                 16     POINT(-89 41.4)\n",
       "3  2016-08-05                 16   POINT(-89.8 30.7)\n",
       "4  2016-08-05                 16   POINT(-86.2 37.9)"
      ]
     },
     "execution_count": 2,
     "metadata": {},
     "output_type": "execute_result"
    }
   ],
   "source": [
    "# Read in the data.\n",
    "df = pd.read_csv('eda_manipulate_date_strings_with_python.csv')\n",
    "df.head()"
   ]
  },
  {
   "cell_type": "markdown",
   "metadata": {
    "id": "iiVSolnEm6A5"
   },
   "source": [
    "## Create new time columns"
   ]
  },
  {
   "cell_type": "markdown",
   "metadata": {
    "id": "hKWRq_huIvEE"
   },
   "source": [
    "As with similar datasets you have worked with, the `date` column data type is a string object, which limits what you can do with the data in this column. Converting the column to datetime will enable you to work with this data much more easily.  "
   ]
  },
  {
   "cell_type": "code",
   "execution_count": 3,
   "metadata": {
    "id": "3Mkui6ErGNdw"
   },
   "outputs": [],
   "source": [
    "# Convert the `date` column to datetime.\n",
    "df['date'] = pd.to_datetime(df['date'])"
   ]
  },
  {
   "cell_type": "markdown",
   "metadata": {},
   "source": [
    "Next, let's create four new columns: `week`, `month`, `quarter`, and `year`. We can do this by using the `datetime.strftime()` method of the datetime object. `strftime` is short for \"string format time.\" We will use this method on the datetime data in the `week` column, and it will extract the information we specify, formatted as a string. \n",
    "\n",
    "To specify the information to extract, we will use strftime format codes. You can find a full list of available codes to use in the [strftime format codes documentation](https://docs.python.org/3/library/datetime.html#strftime-and-strptime-behavior). In this case, we will use `%Y` for year, `%V` for week number, `%q` for quarter.\n",
    "\n",
    "**NOTE:** The following process might take a minute or two to complete."
   ]
  },
  {
   "cell_type": "code",
   "execution_count": null,
   "metadata": {
    "id": "zdJrDykiBlt2"
   },
   "outputs": [],
   "source": [
    "# Create four new columns.\n",
    "df['week'] = df['date'].dt.strftime('%Y-W%V')\n",
    "df['month'] = df['date'].dt.strftime('%Y-%m')\n",
    "df['quarter'] = df['date'].dt.to_period('Q').dt.strftime('%Y-Q%q')\n",
    "df['year'] = df['date'].dt.strftime('%Y')"
   ]
  },
  {
   "cell_type": "markdown",
   "metadata": {
    "id": "i6zkE-8mFJF0"
   },
   "source": [
    "Let's use `head()` to check that the columns were created as intended."
   ]
  },
  {
   "cell_type": "code",
   "execution_count": null,
   "metadata": {
    "colab": {
     "base_uri": "https://localhost:8080/",
     "height": 363
    },
    "id": "33mC6vcg-_5W",
    "outputId": "2060fc81-9764-4bd6-9407-51960329e657"
   },
   "outputs": [],
   "source": [
    "df.head(10)"
   ]
  },
  {
   "cell_type": "markdown",
   "metadata": {
    "id": "6I5Qur7bnIXd"
   },
   "source": [
    "## Plot the number of weekly lightning strikes in 2018"
   ]
  },
  {
   "cell_type": "markdown",
   "metadata": {
    "id": "slxEJjRRIxi5"
   },
   "source": [
    "Next, we will plot the number of weekly lightning strikes. Let's start by filtering the original dataset to 2018. We will use the `groupby()` and `sum()` functions to get the number of strikes per week."
   ]
  },
  {
   "cell_type": "code",
   "execution_count": null,
   "metadata": {
    "colab": {
     "base_uri": "https://localhost:8080/",
     "height": 339
    },
    "id": "XgmO4n-dNOr6",
    "outputId": "0df2cfad-fa1c-475b-99a8-86e135578853"
   },
   "outputs": [],
   "source": [
    "# Create a new dataframe view of just 2018 data, summed by week.\n",
    "df_by_week_2018 = df[df['year'] == '2018'].groupby(['week']).sum().reset_index()\n",
    "df_by_week_2018.head()"
   ]
  },
  {
   "cell_type": "markdown",
   "metadata": {
    "id": "_Dxh2L5AFJF4"
   },
   "source": [
    "Now we have a table of exactly what we need to plot the weekly lightning strike totals of 2018. We will use the `plt.bar()` function to plot the bar graph. Within the argument field, let's input the x-axis (the `week` column), then input the y-axis (or height) as the `number_of_strikes` column. \n",
    "\n",
    "We will use `plt.xlabel()`, `plt.ylabel()`, and `plt.title()` to add appropriate text to the graph."
   ]
  },
  {
   "cell_type": "code",
   "execution_count": null,
   "metadata": {
    "id": "6JJAlQorFJF5"
   },
   "outputs": [],
   "source": [
    "# Plot a bar graph of weekly strike totals in 2018.\n",
    "plt.bar(x = df_by_week_2018['week'], height = df_by_week_2018['number_of_strikes'])\n",
    "plt.plot()\n",
    "plt.xlabel(\"Week number\")\n",
    "plt.ylabel(\"Number of lightning strikes\")\n",
    "plt.title(\"Number of lightning strikes per week (2018)\");"
   ]
  },
  {
   "cell_type": "markdown",
   "metadata": {},
   "source": [
    "### Adjust the graph size"
   ]
  },
  {
   "cell_type": "markdown",
   "metadata": {
    "id": "fusGHYwHFJF5"
   },
   "source": [
    "We now have a graph, but we can't read the x-axis labels. To fix this problem, first we will make it bigger by using `plt.figure(figsize=(20, 5))`. This will change the size to 20 inches wide by 5 inches tall.\n",
    "\n",
    "Next, we will use the `plt.xticks()` function to access the tick labels on the x-axis. Using the `rotation` and `fontsize` keyword arguments, rotate the labels and make the font smaller."
   ]
  },
  {
   "cell_type": "code",
   "execution_count": null,
   "metadata": {
    "id": "aX3V8u2WFJF6"
   },
   "outputs": [],
   "source": [
    "plt.figure(figsize = (20, 5)) # Increase output size.\n",
    "plt.bar(x = df_by_week_2018['week'], height = df_by_week_2018['number_of_strikes'])\n",
    "plt.plot()\n",
    "plt.xlabel(\"Week number\")\n",
    "plt.ylabel(\"Number of lightning strikes\")\n",
    "plt.title(\"Number of lightning strikes per week (2018)\")\n",
    "plt.xticks(rotation = 45, fontsize = 8) # Rotate x-axis labels and decrease font size.\n",
    "\n",
    "plt.show()"
   ]
  },
  {
   "cell_type": "markdown",
   "metadata": {},
   "source": [
    "## Plot the number of quarterly lightning strikes from 2016–2018"
   ]
  },
  {
   "cell_type": "markdown",
   "metadata": {
    "id": "w4DYsd7HFJF6"
   },
   "source": [
    "Next, let's plot lightning strikes by quarter for the full date range of available data. For a visualization, it will be easiest to work with numbers in millions, such as 25.2 million. As an example, the following code will divide the `number_of_strikes` column by one million."
   ]
  },
  {
   "cell_type": "code",
   "execution_count": null,
   "metadata": {
    "colab": {
     "base_uri": "https://localhost:8080/"
    },
    "id": "TczH3W_DsVF9",
    "outputId": "e0e4e8e5-d419-42e1-a31b-c5bb0f5a3966"
   },
   "outputs": [],
   "source": [
    "df_by_quarter = df['number_of_strikes'].div(1000000)\n",
    "df_by_quarter.head()"
   ]
  },
  {
   "cell_type": "markdown",
   "metadata": {},
   "source": [
    "### Format the numbers"
   ]
  },
  {
   "cell_type": "markdown",
   "metadata": {},
   "source": [
    "This alone does not help much, because it just moved the decimal to the left. We will need to format the numbers as well.  Let's begin by grouping the data by quarter and summing.\n",
    "\n",
    "Then, we will create a `number_of_strikes_formatted` column in the resulting dataframe by dividing by one million but also rounding to one digit after the decimal point, converting it to a string, and adding \"M\" to the end to represent millions."
   ]
  },
  {
   "cell_type": "code",
   "execution_count": null,
   "metadata": {
    "id": "v8yYcby_FJF9"
   },
   "outputs": [],
   "source": [
    "# Group 2016-2018 data by quarter and sum.\n",
    "df_by_quarter = df.groupby(['quarter']).sum().reset_index()\n",
    "\n",
    "# Format as text, in millions.\n",
    "df_by_quarter['number_of_strikes_formatted'] = df_by_quarter['number_of_strikes'].div(1000000).round(1).astype(str) + 'M'\n",
    "\n",
    "df_by_quarter.head()"
   ]
  },
  {
   "cell_type": "markdown",
   "metadata": {},
   "source": [
    "### Add labels"
   ]
  },
  {
   "cell_type": "markdown",
   "metadata": {
    "id": "B1rrBgeAFJF8"
   },
   "source": [
    "Before we start plotting, let's write a function that will help label each bar in the plot with its corresponding number_of_strikes_formatted text. The function uses `plt.text()`, which is a pyplot function whose positional arguments are `x`, `y`, and `s`. `x` represents the x-axis coordinates, `y` represents the y-axis coordinates, and `s` represents the text that we want to appear at these coordinates. \n",
    "\n",
    "**Reference:** [pyplot documentation](https://matplotlib.org/stable/api/_as_gen/matplotlib.pyplot.text.html)."
   ]
  },
  {
   "cell_type": "code",
   "execution_count": null,
   "metadata": {
    "id": "zm3CnH9sFJF8"
   },
   "outputs": [],
   "source": [
    "def addlabels(x, y, labels):\n",
    "    '''\n",
    "    Iterates over data and plots text labels above each bar of bar graph.\n",
    "    '''\n",
    "    for i in range(len(x)):\n",
    "        plt.text(i, y[i], labels[i], ha = 'center', va = 'bottom')"
   ]
  },
  {
   "cell_type": "markdown",
   "metadata": {},
   "source": [
    "### Plot the bar graph"
   ]
  },
  {
   "cell_type": "markdown",
   "metadata": {
    "id": "Kzr3D8O7FJF-"
   },
   "source": [
    "Next, let's plot the bar graph. "
   ]
  },
  {
   "cell_type": "code",
   "execution_count": null,
   "metadata": {
    "colab": {
     "base_uri": "https://localhost:8080/",
     "height": 350
    },
    "id": "PEnfe0iCFJF-",
    "outputId": "9d96ed7c-fe51-40a1-f0e5-4971d4188458"
   },
   "outputs": [],
   "source": [
    "plt.figure(figsize = (15, 5))\n",
    "plt.bar(x = df_by_quarter['quarter'], height = df_by_quarter['number_of_strikes'])\n",
    "addlabels(df_by_quarter['quarter'], df_by_quarter['number_of_strikes'], df_by_quarter['number_of_strikes_formatted'])\n",
    "plt.plot()\n",
    "plt.xlabel('Quarter')\n",
    "plt.ylabel('Number of lightning strikes')\n",
    "plt.title('Number of lightning strikes per quarter (2016-2018)')\n",
    "plt.show()"
   ]
  },
  {
   "cell_type": "markdown",
   "metadata": {},
   "source": [
    "### Create a grouped bar chart"
   ]
  },
  {
   "cell_type": "markdown",
   "metadata": {
    "id": "-oPhwEBUUJVm",
    "outputId": "deeef78d-718f-47cb-a45b-74d1de19f43f"
   },
   "source": [
    "Now, we will create a grouped bar chart to better compare year-over-year changes each quarter. We can do this by creating two new columns that break out the quarter and year from the `quarter` column. We will use the `quarter` column and take the last two characters to get `quarter_number`, and take the first four characters to get `year`."
   ]
  },
  {
   "cell_type": "code",
   "execution_count": null,
   "metadata": {
    "id": "M_jVUZIbFJF_"
   },
   "outputs": [],
   "source": [
    "# Create two new columns.\n",
    "df_by_quarter['quarter_number'] = df_by_quarter['quarter'].str[-2:]\n",
    "df_by_quarter['year'] = df_by_quarter['quarter'].str[:4]\n",
    "df_by_quarter.head()"
   ]
  },
  {
   "cell_type": "markdown",
   "metadata": {},
   "source": [
    "### Fill in the chart parameters"
   ]
  },
  {
   "cell_type": "markdown",
   "metadata": {
    "id": "AplCgkQgFJF_"
   },
   "source": [
    "Next, fill in the bar chart parameters. "
   ]
  },
  {
   "cell_type": "code",
   "execution_count": null,
   "metadata": {
    "colab": {
     "base_uri": "https://localhost:8080/",
     "height": 350
    },
    "id": "EVL75ZRpFJF_",
    "outputId": "deeef78d-718f-47cb-a45b-74d1de19f43f",
    "scrolled": true
   },
   "outputs": [],
   "source": [
    "plt.figure(figsize = (15, 5))\n",
    "p = sns.barplot(\n",
    "    data = df_by_quarter,\n",
    "    x = 'quarter_number',\n",
    "    y = 'number_of_strikes',\n",
    "    hue = 'year')\n",
    "for b in p.patches:\n",
    "    p.annotate(str(round(b.get_height()/1000000, 1))+'M', \n",
    "                   (b.get_x() + b.get_width() / 2., b.get_height() + 1.2e6), \n",
    "                   ha = 'center', va = 'bottom', \n",
    "                   xytext = (0, -12), \n",
    "                   textcoords = 'offset points')\n",
    "plt.xlabel(\"Quarter\")\n",
    "plt.ylabel(\"Number of lightning strikes\")\n",
    "plt.title(\"Number of lightning strikes per quarter (2016-2018)\")\n",
    "plt.show()"
   ]
  },
  {
   "cell_type": "markdown",
   "metadata": {},
   "source": [
    "## Conclusion"
   ]
  },
  {
   "cell_type": "markdown",
   "metadata": {
    "id": "LGSryzOLFJF_"
   },
   "source": [
    "**Congratulations!** You've completed this lab. You now understand how to manipulate date strings in Python and should be able to start using it on your own datasets.\n",
    "\n",
    "You may not notice a green check mark next to this item on Coursera's platform. Please continue your progress regardless of the check mark. Just click on the \"save\" icon at the top of this notebook to ensure your work has been logged."
   ]
  }
 ],
 "metadata": {
  "colab": {
   "collapsed_sections": [],
   "provenance": [
    {
     "file_id": "19IGrrvzEh7nvoXs9nBFIrNwEvWd_KyUa",
     "timestamp": 1662732384657
    }
   ]
  },
  "kernelspec": {
   "display_name": "Python 3",
   "language": "python",
   "name": "python3"
  },
  "language_info": {
   "codemirror_mode": {
    "name": "ipython",
    "version": 3
   },
   "file_extension": ".py",
   "mimetype": "text/x-python",
   "name": "python",
   "nbconvert_exporter": "python",
   "pygments_lexer": "ipython3",
   "version": "3.7.6"
  }
 },
 "nbformat": 4,
 "nbformat_minor": 1
}
